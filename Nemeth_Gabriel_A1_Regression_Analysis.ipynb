{
 "cells": [
  {
   "cell_type": "markdown",
   "id": "b6c1a008",
   "metadata": {},
   "source": [
    "<h2>Gabriel Nemeth Regression Analysis</h2><br>\n",
    "\n",
    "   - This code runs regression models to see what variables statistically affect the birth weight of a newborn baby."
   ]
  },
  {
   "cell_type": "code",
   "execution_count": 1,
   "id": "380a38d7",
   "metadata": {},
   "outputs": [
    {
     "data": {
      "text/html": [
       "<div>\n",
       "<style scoped>\n",
       "    .dataframe tbody tr th:only-of-type {\n",
       "        vertical-align: middle;\n",
       "    }\n",
       "\n",
       "    .dataframe tbody tr th {\n",
       "        vertical-align: top;\n",
       "    }\n",
       "\n",
       "    .dataframe thead th {\n",
       "        text-align: right;\n",
       "    }\n",
       "</style>\n",
       "<table border=\"1\" class=\"dataframe\">\n",
       "  <thead>\n",
       "    <tr style=\"text-align: right;\">\n",
       "      <th></th>\n",
       "      <th>mage</th>\n",
       "      <th>meduc</th>\n",
       "      <th>monpre</th>\n",
       "      <th>npvis</th>\n",
       "      <th>fage</th>\n",
       "      <th>feduc</th>\n",
       "      <th>omaps</th>\n",
       "      <th>fmaps</th>\n",
       "      <th>cigs</th>\n",
       "      <th>drink</th>\n",
       "      <th>male</th>\n",
       "      <th>mwhte</th>\n",
       "      <th>mblck</th>\n",
       "      <th>moth</th>\n",
       "      <th>fwhte</th>\n",
       "      <th>fblck</th>\n",
       "      <th>foth</th>\n",
       "      <th>bwght</th>\n",
       "    </tr>\n",
       "  </thead>\n",
       "  <tbody>\n",
       "    <tr>\n",
       "      <th>0</th>\n",
       "      <td>69</td>\n",
       "      <td>NaN</td>\n",
       "      <td>5</td>\n",
       "      <td>2.0</td>\n",
       "      <td>62</td>\n",
       "      <td>NaN</td>\n",
       "      <td>4</td>\n",
       "      <td>7</td>\n",
       "      <td>23</td>\n",
       "      <td>9</td>\n",
       "      <td>1</td>\n",
       "      <td>0</td>\n",
       "      <td>1</td>\n",
       "      <td>0</td>\n",
       "      <td>0</td>\n",
       "      <td>1</td>\n",
       "      <td>0</td>\n",
       "      <td>697</td>\n",
       "    </tr>\n",
       "    <tr>\n",
       "      <th>1</th>\n",
       "      <td>68</td>\n",
       "      <td>12.0</td>\n",
       "      <td>3</td>\n",
       "      <td>10.0</td>\n",
       "      <td>61</td>\n",
       "      <td>11.0</td>\n",
       "      <td>4</td>\n",
       "      <td>6</td>\n",
       "      <td>25</td>\n",
       "      <td>11</td>\n",
       "      <td>1</td>\n",
       "      <td>1</td>\n",
       "      <td>0</td>\n",
       "      <td>0</td>\n",
       "      <td>1</td>\n",
       "      <td>0</td>\n",
       "      <td>0</td>\n",
       "      <td>1290</td>\n",
       "    </tr>\n",
       "    <tr>\n",
       "      <th>2</th>\n",
       "      <td>71</td>\n",
       "      <td>12.0</td>\n",
       "      <td>3</td>\n",
       "      <td>6.0</td>\n",
       "      <td>46</td>\n",
       "      <td>12.0</td>\n",
       "      <td>2</td>\n",
       "      <td>7</td>\n",
       "      <td>21</td>\n",
       "      <td>12</td>\n",
       "      <td>1</td>\n",
       "      <td>0</td>\n",
       "      <td>1</td>\n",
       "      <td>0</td>\n",
       "      <td>0</td>\n",
       "      <td>1</td>\n",
       "      <td>0</td>\n",
       "      <td>1490</td>\n",
       "    </tr>\n",
       "    <tr>\n",
       "      <th>3</th>\n",
       "      <td>59</td>\n",
       "      <td>16.0</td>\n",
       "      <td>1</td>\n",
       "      <td>8.0</td>\n",
       "      <td>48</td>\n",
       "      <td>16.0</td>\n",
       "      <td>7</td>\n",
       "      <td>8</td>\n",
       "      <td>21</td>\n",
       "      <td>10</td>\n",
       "      <td>0</td>\n",
       "      <td>0</td>\n",
       "      <td>0</td>\n",
       "      <td>1</td>\n",
       "      <td>0</td>\n",
       "      <td>0</td>\n",
       "      <td>1</td>\n",
       "      <td>1720</td>\n",
       "    </tr>\n",
       "    <tr>\n",
       "      <th>4</th>\n",
       "      <td>48</td>\n",
       "      <td>12.0</td>\n",
       "      <td>4</td>\n",
       "      <td>6.0</td>\n",
       "      <td>39</td>\n",
       "      <td>12.0</td>\n",
       "      <td>2</td>\n",
       "      <td>9</td>\n",
       "      <td>17</td>\n",
       "      <td>13</td>\n",
       "      <td>0</td>\n",
       "      <td>1</td>\n",
       "      <td>0</td>\n",
       "      <td>0</td>\n",
       "      <td>1</td>\n",
       "      <td>0</td>\n",
       "      <td>0</td>\n",
       "      <td>1956</td>\n",
       "    </tr>\n",
       "    <tr>\n",
       "      <th>5</th>\n",
       "      <td>67</td>\n",
       "      <td>11.0</td>\n",
       "      <td>4</td>\n",
       "      <td>8.0</td>\n",
       "      <td>40</td>\n",
       "      <td>8.0</td>\n",
       "      <td>4</td>\n",
       "      <td>9</td>\n",
       "      <td>16</td>\n",
       "      <td>14</td>\n",
       "      <td>0</td>\n",
       "      <td>1</td>\n",
       "      <td>0</td>\n",
       "      <td>0</td>\n",
       "      <td>1</td>\n",
       "      <td>0</td>\n",
       "      <td>0</td>\n",
       "      <td>1984</td>\n",
       "    </tr>\n",
       "    <tr>\n",
       "      <th>6</th>\n",
       "      <td>54</td>\n",
       "      <td>12.0</td>\n",
       "      <td>2</td>\n",
       "      <td>12.0</td>\n",
       "      <td>46</td>\n",
       "      <td>12.0</td>\n",
       "      <td>9</td>\n",
       "      <td>9</td>\n",
       "      <td>17</td>\n",
       "      <td>12</td>\n",
       "      <td>1</td>\n",
       "      <td>0</td>\n",
       "      <td>1</td>\n",
       "      <td>0</td>\n",
       "      <td>0</td>\n",
       "      <td>1</td>\n",
       "      <td>0</td>\n",
       "      <td>2050</td>\n",
       "    </tr>\n",
       "    <tr>\n",
       "      <th>7</th>\n",
       "      <td>71</td>\n",
       "      <td>14.0</td>\n",
       "      <td>4</td>\n",
       "      <td>7.0</td>\n",
       "      <td>51</td>\n",
       "      <td>11.0</td>\n",
       "      <td>9</td>\n",
       "      <td>8</td>\n",
       "      <td>15</td>\n",
       "      <td>13</td>\n",
       "      <td>0</td>\n",
       "      <td>1</td>\n",
       "      <td>0</td>\n",
       "      <td>0</td>\n",
       "      <td>1</td>\n",
       "      <td>0</td>\n",
       "      <td>0</td>\n",
       "      <td>2068</td>\n",
       "    </tr>\n",
       "    <tr>\n",
       "      <th>8</th>\n",
       "      <td>56</td>\n",
       "      <td>12.0</td>\n",
       "      <td>1</td>\n",
       "      <td>9.0</td>\n",
       "      <td>53</td>\n",
       "      <td>14.0</td>\n",
       "      <td>8</td>\n",
       "      <td>9</td>\n",
       "      <td>14</td>\n",
       "      <td>9</td>\n",
       "      <td>1</td>\n",
       "      <td>1</td>\n",
       "      <td>0</td>\n",
       "      <td>0</td>\n",
       "      <td>1</td>\n",
       "      <td>0</td>\n",
       "      <td>0</td>\n",
       "      <td>2148</td>\n",
       "    </tr>\n",
       "    <tr>\n",
       "      <th>9</th>\n",
       "      <td>58</td>\n",
       "      <td>12.0</td>\n",
       "      <td>2</td>\n",
       "      <td>12.0</td>\n",
       "      <td>61</td>\n",
       "      <td>16.0</td>\n",
       "      <td>9</td>\n",
       "      <td>9</td>\n",
       "      <td>13</td>\n",
       "      <td>6</td>\n",
       "      <td>0</td>\n",
       "      <td>0</td>\n",
       "      <td>1</td>\n",
       "      <td>0</td>\n",
       "      <td>0</td>\n",
       "      <td>1</td>\n",
       "      <td>0</td>\n",
       "      <td>2180</td>\n",
       "    </tr>\n",
       "  </tbody>\n",
       "</table>\n",
       "</div>"
      ],
      "text/plain": [
       "   mage  meduc  monpre  npvis  fage  feduc  omaps  fmaps  cigs  drink  male  mwhte  mblck  moth  fwhte  fblck  foth  bwght\n",
       "0    69    NaN       5    2.0    62    NaN      4      7    23      9     1      0      1     0      0      1     0    697\n",
       "1    68   12.0       3   10.0    61   11.0      4      6    25     11     1      1      0     0      1      0     0   1290\n",
       "2    71   12.0       3    6.0    46   12.0      2      7    21     12     1      0      1     0      0      1     0   1490\n",
       "3    59   16.0       1    8.0    48   16.0      7      8    21     10     0      0      0     1      0      0     1   1720\n",
       "4    48   12.0       4    6.0    39   12.0      2      9    17     13     0      1      0     0      1      0     0   1956\n",
       "5    67   11.0       4    8.0    40    8.0      4      9    16     14     0      1      0     0      1      0     0   1984\n",
       "6    54   12.0       2   12.0    46   12.0      9      9    17     12     1      0      1     0      0      1     0   2050\n",
       "7    71   14.0       4    7.0    51   11.0      9      8    15     13     0      1      0     0      1      0     0   2068\n",
       "8    56   12.0       1    9.0    53   14.0      8      9    14      9     1      1      0     0      1      0     0   2148\n",
       "9    58   12.0       2   12.0    61   16.0      9      9    13      6     0      0      1     0      0      1     0   2180"
      ]
     },
     "execution_count": 1,
     "metadata": {},
     "output_type": "execute_result"
    }
   ],
   "source": [
    "# importing libraries\n",
    "import pandas as pd # data science essentials\n",
    "import matplotlib.pyplot as plt # essential graphical output\n",
    "import numpy as np # mathematical essentials\n",
    "import seaborn as sns # enhanced graphical output\n",
    "import statsmodels.formula.api as smf # regression modeling\n",
    "\n",
    "\n",
    "# setting pandas print options\n",
    "pd.set_option('display.max_rows', 500)\n",
    "pd.set_option('display.max_columns', 500)\n",
    "pd.set_option('display.width', 1000)\n",
    "\n",
    "# specifying file name\n",
    "file = './A1 Regression Analysis/birthweight_low.xlsx'\n",
    "\n",
    "\n",
    "# reading the file into Python\n",
    "birthweight = pd.read_excel(io = file)\n",
    "\n",
    "\n",
    "# outputting the first ten rows of the dataset\n",
    "birthweight.head(n=10)"
   ]
  },
  {
   "cell_type": "code",
   "execution_count": 2,
   "id": "4ec8b1b9",
   "metadata": {},
   "outputs": [
    {
     "name": "stdout",
     "output_type": "stream",
     "text": [
      "mage\n",
      "meduc\n",
      "monpre\n",
      "npvis\n",
      "fage\n",
      "feduc\n",
      "omaps\n",
      "fmaps\n",
      "cigs\n",
      "drink\n",
      "male\n",
      "mwhte\n",
      "mblck\n",
      "moth\n",
      "fwhte\n",
      "fblck\n",
      "foth\n",
      "bwght\n"
     ]
    }
   ],
   "source": [
    "# looping to print column names one by one\n",
    "for column in birthweight:\n",
    "    print(column)"
   ]
  },
  {
   "cell_type": "code",
   "execution_count": 3,
   "id": "3b0278cb",
   "metadata": {},
   "outputs": [
    {
     "data": {
      "text/html": [
       "<div>\n",
       "<style scoped>\n",
       "    .dataframe tbody tr th:only-of-type {\n",
       "        vertical-align: middle;\n",
       "    }\n",
       "\n",
       "    .dataframe tbody tr th {\n",
       "        vertical-align: top;\n",
       "    }\n",
       "\n",
       "    .dataframe thead th {\n",
       "        text-align: right;\n",
       "    }\n",
       "</style>\n",
       "<table border=\"1\" class=\"dataframe\">\n",
       "  <thead>\n",
       "    <tr style=\"text-align: right;\">\n",
       "      <th></th>\n",
       "      <th>mage</th>\n",
       "      <th>meduc</th>\n",
       "      <th>monpre</th>\n",
       "      <th>npvis</th>\n",
       "      <th>fage</th>\n",
       "      <th>feduc</th>\n",
       "      <th>omaps</th>\n",
       "      <th>fmaps</th>\n",
       "      <th>cigs</th>\n",
       "      <th>drink</th>\n",
       "      <th>male</th>\n",
       "      <th>mwhte</th>\n",
       "      <th>mblck</th>\n",
       "      <th>moth</th>\n",
       "      <th>fwhte</th>\n",
       "      <th>fblck</th>\n",
       "      <th>foth</th>\n",
       "      <th>bwght</th>\n",
       "    </tr>\n",
       "  </thead>\n",
       "  <tbody>\n",
       "    <tr>\n",
       "      <th>count</th>\n",
       "      <td>196.00</td>\n",
       "      <td>193.00</td>\n",
       "      <td>196.00</td>\n",
       "      <td>193.00</td>\n",
       "      <td>196.00</td>\n",
       "      <td>189.00</td>\n",
       "      <td>196.00</td>\n",
       "      <td>196.00</td>\n",
       "      <td>196.00</td>\n",
       "      <td>196.00</td>\n",
       "      <td>196.00</td>\n",
       "      <td>196.00</td>\n",
       "      <td>196.00</td>\n",
       "      <td>196.00</td>\n",
       "      <td>196.00</td>\n",
       "      <td>196.00</td>\n",
       "      <td>196.00</td>\n",
       "      <td>196.00</td>\n",
       "    </tr>\n",
       "    <tr>\n",
       "      <th>mean</th>\n",
       "      <td>40.15</td>\n",
       "      <td>13.91</td>\n",
       "      <td>2.34</td>\n",
       "      <td>11.60</td>\n",
       "      <td>39.29</td>\n",
       "      <td>13.85</td>\n",
       "      <td>8.19</td>\n",
       "      <td>8.96</td>\n",
       "      <td>10.93</td>\n",
       "      <td>5.40</td>\n",
       "      <td>0.55</td>\n",
       "      <td>0.27</td>\n",
       "      <td>0.38</td>\n",
       "      <td>0.35</td>\n",
       "      <td>0.35</td>\n",
       "      <td>0.34</td>\n",
       "      <td>0.31</td>\n",
       "      <td>3334.09</td>\n",
       "    </tr>\n",
       "    <tr>\n",
       "      <th>std</th>\n",
       "      <td>10.25</td>\n",
       "      <td>2.06</td>\n",
       "      <td>1.36</td>\n",
       "      <td>4.27</td>\n",
       "      <td>8.98</td>\n",
       "      <td>2.63</td>\n",
       "      <td>1.58</td>\n",
       "      <td>0.65</td>\n",
       "      <td>6.10</td>\n",
       "      <td>3.00</td>\n",
       "      <td>0.50</td>\n",
       "      <td>0.45</td>\n",
       "      <td>0.49</td>\n",
       "      <td>0.48</td>\n",
       "      <td>0.48</td>\n",
       "      <td>0.48</td>\n",
       "      <td>0.46</td>\n",
       "      <td>646.70</td>\n",
       "    </tr>\n",
       "    <tr>\n",
       "      <th>min</th>\n",
       "      <td>23.00</td>\n",
       "      <td>8.00</td>\n",
       "      <td>1.00</td>\n",
       "      <td>2.00</td>\n",
       "      <td>23.00</td>\n",
       "      <td>1.00</td>\n",
       "      <td>2.00</td>\n",
       "      <td>5.00</td>\n",
       "      <td>0.00</td>\n",
       "      <td>0.00</td>\n",
       "      <td>0.00</td>\n",
       "      <td>0.00</td>\n",
       "      <td>0.00</td>\n",
       "      <td>0.00</td>\n",
       "      <td>0.00</td>\n",
       "      <td>0.00</td>\n",
       "      <td>0.00</td>\n",
       "      <td>697.00</td>\n",
       "    </tr>\n",
       "    <tr>\n",
       "      <th>25%</th>\n",
       "      <td>33.00</td>\n",
       "      <td>12.00</td>\n",
       "      <td>2.00</td>\n",
       "      <td>10.00</td>\n",
       "      <td>34.75</td>\n",
       "      <td>12.00</td>\n",
       "      <td>8.00</td>\n",
       "      <td>9.00</td>\n",
       "      <td>6.00</td>\n",
       "      <td>4.00</td>\n",
       "      <td>0.00</td>\n",
       "      <td>0.00</td>\n",
       "      <td>0.00</td>\n",
       "      <td>0.00</td>\n",
       "      <td>0.00</td>\n",
       "      <td>0.00</td>\n",
       "      <td>0.00</td>\n",
       "      <td>2916.25</td>\n",
       "    </tr>\n",
       "    <tr>\n",
       "      <th>50%</th>\n",
       "      <td>39.00</td>\n",
       "      <td>14.00</td>\n",
       "      <td>2.00</td>\n",
       "      <td>12.00</td>\n",
       "      <td>38.00</td>\n",
       "      <td>14.00</td>\n",
       "      <td>9.00</td>\n",
       "      <td>9.00</td>\n",
       "      <td>11.00</td>\n",
       "      <td>5.00</td>\n",
       "      <td>1.00</td>\n",
       "      <td>0.00</td>\n",
       "      <td>0.00</td>\n",
       "      <td>0.00</td>\n",
       "      <td>0.00</td>\n",
       "      <td>0.00</td>\n",
       "      <td>0.00</td>\n",
       "      <td>3452.00</td>\n",
       "    </tr>\n",
       "    <tr>\n",
       "      <th>75%</th>\n",
       "      <td>46.00</td>\n",
       "      <td>16.00</td>\n",
       "      <td>3.00</td>\n",
       "      <td>12.00</td>\n",
       "      <td>43.00</td>\n",
       "      <td>16.00</td>\n",
       "      <td>9.00</td>\n",
       "      <td>9.00</td>\n",
       "      <td>15.25</td>\n",
       "      <td>7.25</td>\n",
       "      <td>1.00</td>\n",
       "      <td>1.00</td>\n",
       "      <td>1.00</td>\n",
       "      <td>1.00</td>\n",
       "      <td>1.00</td>\n",
       "      <td>1.00</td>\n",
       "      <td>1.00</td>\n",
       "      <td>3759.50</td>\n",
       "    </tr>\n",
       "    <tr>\n",
       "      <th>max</th>\n",
       "      <td>71.00</td>\n",
       "      <td>17.00</td>\n",
       "      <td>8.00</td>\n",
       "      <td>35.00</td>\n",
       "      <td>73.00</td>\n",
       "      <td>17.00</td>\n",
       "      <td>10.00</td>\n",
       "      <td>10.00</td>\n",
       "      <td>25.00</td>\n",
       "      <td>14.00</td>\n",
       "      <td>1.00</td>\n",
       "      <td>1.00</td>\n",
       "      <td>1.00</td>\n",
       "      <td>1.00</td>\n",
       "      <td>1.00</td>\n",
       "      <td>1.00</td>\n",
       "      <td>1.00</td>\n",
       "      <td>4933.00</td>\n",
       "    </tr>\n",
       "  </tbody>\n",
       "</table>\n",
       "</div>"
      ],
      "text/plain": [
       "         mage   meduc  monpre   npvis    fage   feduc   omaps   fmaps    cigs   drink    male   mwhte   mblck    moth   fwhte   fblck    foth    bwght\n",
       "count  196.00  193.00  196.00  193.00  196.00  189.00  196.00  196.00  196.00  196.00  196.00  196.00  196.00  196.00  196.00  196.00  196.00   196.00\n",
       "mean    40.15   13.91    2.34   11.60   39.29   13.85    8.19    8.96   10.93    5.40    0.55    0.27    0.38    0.35    0.35    0.34    0.31  3334.09\n",
       "std     10.25    2.06    1.36    4.27    8.98    2.63    1.58    0.65    6.10    3.00    0.50    0.45    0.49    0.48    0.48    0.48    0.46   646.70\n",
       "min     23.00    8.00    1.00    2.00   23.00    1.00    2.00    5.00    0.00    0.00    0.00    0.00    0.00    0.00    0.00    0.00    0.00   697.00\n",
       "25%     33.00   12.00    2.00   10.00   34.75   12.00    8.00    9.00    6.00    4.00    0.00    0.00    0.00    0.00    0.00    0.00    0.00  2916.25\n",
       "50%     39.00   14.00    2.00   12.00   38.00   14.00    9.00    9.00   11.00    5.00    1.00    0.00    0.00    0.00    0.00    0.00    0.00  3452.00\n",
       "75%     46.00   16.00    3.00   12.00   43.00   16.00    9.00    9.00   15.25    7.25    1.00    1.00    1.00    1.00    1.00    1.00    1.00  3759.50\n",
       "max     71.00   17.00    8.00   35.00   73.00   17.00   10.00   10.00   25.00   14.00    1.00    1.00    1.00    1.00    1.00    1.00    1.00  4933.00"
      ]
     },
     "execution_count": 3,
     "metadata": {},
     "output_type": "execute_result"
    }
   ],
   "source": [
    "# using descriptive statistics for numeric data\n",
    "birthweight.describe(include = 'number').round(2)"
   ]
  },
  {
   "cell_type": "code",
   "execution_count": 4,
   "id": "fdc7c09a",
   "metadata": {},
   "outputs": [],
   "source": [
    "# log transforming birthweight and saving it to the dataset\n",
    "birthweight['log_bwght'] = np.log(birthweight['bwght'])\n",
    "\n",
    "# log transforming father's age and saving it to the dataset\n",
    "birthweight['log_fage'] = np.log(birthweight['fage'])\n",
    "\n",
    "# log transforming mother's age and saving it to the dataset\n",
    "birthweight['log_mage'] = np.log(birthweight['mage'])\n",
    "\n",
    "# log transforming mother's education and saving it to the dataset\n",
    "birthweight['log_meduc'] = np.log(birthweight['meduc'])\n",
    "\n",
    "# log transforming father's education and saving it to the dataset\n",
    "birthweight['log_feduc'] = np.log(birthweight['feduc'])"
   ]
  },
  {
   "cell_type": "markdown",
   "id": "8637ec44",
   "metadata": {},
   "source": [
    "Performed the transformations above to see which variables I'd decide to log based on the histograms below. Compared the regular observation with the logarithmic one to choose."
   ]
  },
  {
   "cell_type": "code",
   "execution_count": 5,
   "id": "14dc66eb",
   "metadata": {},
   "outputs": [
    {
     "data": {
      "image/png": "[encoded data removed]",
      "text/plain": [
       "<Figure size 432x288 with 1 Axes>"
      ]
     },
     "metadata": {
      "needs_background": "light"
     },
     "output_type": "display_data"
    },
    {
     "data": {
      "image/png": "[encoded data removed]",
      "text/plain": [
       "<Figure size 432x288 with 1 Axes>"
      ]
     },
     "metadata": {
      "needs_background": "light"
     },
     "output_type": "display_data"
    },
    {
     "data": {
      "image/png": "[encoded data removed]",
      "text/plain": [
       "<Figure size 432x288 with 1 Axes>"
      ]
     },
     "metadata": {
      "needs_background": "light"
     },
     "output_type": "display_data"
    },
    {
     "data": {
      "image/png": "[encoded data removed]",
      "text/plain": [
       "<Figure size 432x288 with 1 Axes>"
      ]
     },
     "metadata": {
      "needs_background": "light"
     },
     "output_type": "display_data"
    },
    {
     "data": {
      "image/png": "[encoded data removed]",
      "text/plain": [
       "<Figure size 432x288 with 1 Axes>"
      ]
     },
     "metadata": {
      "needs_background": "light"
     },
     "output_type": "display_data"
    },
    {
     "data": {
      "image/png": "[encoded data removed]",
      "text/plain": [
       "<Figure size 432x288 with 1 Axes>"
      ]
     },
     "metadata": {
      "needs_background": "light"
     },
     "output_type": "display_data"
    },
    {
     "data": {
      "image/png": "[encoded data removed]",
      "text/plain": [
       "<Figure size 432x288 with 1 Axes>"
      ]
     },
     "metadata": {
      "needs_background": "light"
     },
     "output_type": "display_data"
    },
    {
     "data": {
      "image/png": "[encoded data removed]",
      "text/plain": [
       "<Figure size 432x288 with 1 Axes>"
      ]
     },
     "metadata": {
      "needs_background": "light"
     },
     "output_type": "display_data"
    },
    {
     "data": {
      "image/png": "[encoded data removed]",
      "text/plain": [
       "<Figure size 432x288 with 1 Axes>"
      ]
     },
     "metadata": {
      "needs_background": "light"
     },
     "output_type": "display_data"
    },
    {
     "data": {
      "image/png": "[encoded data removed]",
      "text/plain": [
       "<Figure size 432x288 with 1 Axes>"
      ]
     },
     "metadata": {
      "needs_background": "light"
     },
     "output_type": "display_data"
    }
   ],
   "source": [
    "# developing a histogram using HISTPLOT\n",
    "sns.histplot(data   = birthweight,\n",
    "          x      = 'bwght',\n",
    "          kde    = True)\n",
    "\n",
    "\n",
    "# title and axis labels\n",
    "plt.title(label   = \"Original Distribution of Birthweight\")\n",
    "plt.xlabel(xlabel = \"Birtweight\") \n",
    "plt.ylabel(ylabel = \"Count\")\n",
    "\n",
    "# displaying the histogram\n",
    "plt.show()\n",
    "\n",
    "# developing a histogram using HISTPLOT\n",
    "sns.histplot(data   = birthweight,\n",
    "          x      = 'log_bwght',\n",
    "          kde    = True)\n",
    "\n",
    "\n",
    "# title and axis labels\n",
    "plt.title(label   = \"Logarithmic Distribution of Birthweight\")\n",
    "plt.xlabel(xlabel = \"Birtweight\") \n",
    "plt.ylabel(ylabel = \"Count\")\n",
    "\n",
    "# displaying the histogram\n",
    "plt.show()\n",
    "\n",
    "# developing a histogram using HISTPLOT\n",
    "sns.histplot(data   = birthweight,\n",
    "          x      = 'fage',\n",
    "          kde    = True)\n",
    "\n",
    "\n",
    "# title and axis labels\n",
    "plt.title(label   = \"Original Distribution of Father's Age\")\n",
    "plt.xlabel(xlabel = \"Father's Age\") \n",
    "plt.ylabel(ylabel = \"Count\")\n",
    "\n",
    "# displaying the histogram\n",
    "plt.show()\n",
    "\n",
    "# developing a histogram using HISTPLOT\n",
    "sns.histplot(data   = birthweight,\n",
    "          x      = 'log_fage',\n",
    "          kde    = True)\n",
    "\n",
    "\n",
    "# title and axis labels\n",
    "plt.title(label   = \"Logarithmic Distribution of Father's Age\")\n",
    "plt.xlabel(xlabel = \"Father's Age\") \n",
    "plt.ylabel(ylabel = \"Count\")\n",
    "\n",
    "# displaying the histogram\n",
    "plt.show()\n",
    "\n",
    "# developing a histogram using HISTPLOT\n",
    "sns.histplot(data   = birthweight,\n",
    "          x      = 'mage',\n",
    "          kde    = True)\n",
    "\n",
    "\n",
    "# title and axis labels\n",
    "plt.title(label   = \"Original Distribution of Mother's Age\")\n",
    "plt.xlabel(xlabel = \"Mother's Age\") \n",
    "plt.ylabel(ylabel = \"Count\")\n",
    "\n",
    "# displaying the histogram\n",
    "plt.show()\n",
    "\n",
    "# developing a histogram using HISTPLOT\n",
    "sns.histplot(data   = birthweight,\n",
    "          x      = 'log_mage',\n",
    "          kde    = True)\n",
    "\n",
    "\n",
    "# title and axis labels\n",
    "plt.title(label   = \"Logarithmic Distribution of Mother's Age\")\n",
    "plt.xlabel(xlabel = \"Mother's Age\") \n",
    "plt.ylabel(ylabel = \"Count\")\n",
    "\n",
    "# displaying the histogram\n",
    "plt.show()\n",
    "\n",
    "# developing a histogram using HISTPLOT\n",
    "sns.histplot(data   = birthweight,\n",
    "          x      = 'meduc',\n",
    "          kde    = True)\n",
    "\n",
    "\n",
    "# title and axis labels\n",
    "plt.title(label   = \"Original Distribution of Mother's Education\")\n",
    "plt.xlabel(xlabel = \"Mother's Education\") \n",
    "plt.ylabel(ylabel = \"Count\")\n",
    "\n",
    "# displaying the histogram\n",
    "plt.show()\n",
    "\n",
    "# developing a histogram using HISTPLOT\n",
    "sns.histplot(data   = birthweight,\n",
    "          x      = 'log_meduc',\n",
    "          kde    = True)\n",
    "\n",
    "\n",
    "# title and axis labels\n",
    "plt.title(label   = \"Logarithmic Distribution of Mother's Education\")\n",
    "plt.xlabel(xlabel = \"Mother's Education\") \n",
    "plt.ylabel(ylabel = \"Count\")\n",
    "\n",
    "# displaying the histogram\n",
    "plt.show()\n",
    "\n",
    "# developing a histogram using HISTPLOT\n",
    "sns.histplot(data   = birthweight,\n",
    "          x      = 'feduc',\n",
    "          kde    = True)\n",
    "\n",
    "\n",
    "# title and axis labels\n",
    "plt.title(label   = \"Original Distribution of Father's Education\")\n",
    "plt.xlabel(xlabel = \"Father's Education\") \n",
    "plt.ylabel(ylabel = \"Count\")\n",
    "\n",
    "# displaying the histogram\n",
    "plt.show()\n",
    "\n",
    "# developing a histogram using HISTPLOT\n",
    "sns.histplot(data   = birthweight,\n",
    "          x      = 'log_feduc',\n",
    "          kde    = True)\n",
    "\n",
    "\n",
    "# title and axis labels\n",
    "plt.title(label   = \"Logarithmic Distribution of Father's Education\")\n",
    "plt.xlabel(xlabel = \"Father's Education\") \n",
    "plt.ylabel(ylabel = \"Count\")\n",
    "\n",
    "# displaying the histogram\n",
    "plt.show()"
   ]
  },
  {
   "cell_type": "markdown",
   "id": "072c6028",
   "metadata": {},
   "source": [
    "Split the data into Continuous, Interval/Count, and Categorical groups."
   ]
  },
  {
   "cell_type": "raw",
   "id": "f70f78d3",
   "metadata": {},
   "source": [
    "CONTINUOUS\n",
    "----------\n",
    "bwght\n",
    "fage\n",
    "mage\n",
    "\n",
    "\n",
    "\n",
    "INTERVAL/COUNT\n",
    "--------------\n",
    "cigs\n",
    "drink\n",
    "monpre\n",
    "npvis\n",
    "feduc\n",
    "meduc\n",
    "\n",
    "\n",
    "CATEGORICAL/OTHER\n",
    "-----------------\n",
    "male\n",
    "mwhte\n",
    "mblck\n",
    "moth\n",
    "fwhte\n",
    "fblck\n",
    "foth"
   ]
  },
  {
   "cell_type": "code",
   "execution_count": 6,
   "id": "38a25f0f",
   "metadata": {},
   "outputs": [
    {
     "data": {
      "text/plain": [
       "mage         0\n",
       "meduc        3\n",
       "monpre       0\n",
       "npvis        3\n",
       "fage         0\n",
       "feduc        7\n",
       "omaps        0\n",
       "fmaps        0\n",
       "cigs         0\n",
       "drink        0\n",
       "male         0\n",
       "mwhte        0\n",
       "mblck        0\n",
       "moth         0\n",
       "fwhte        0\n",
       "fblck        0\n",
       "foth         0\n",
       "bwght        0\n",
       "log_bwght    0\n",
       "log_fage     0\n",
       "log_mage     0\n",
       "log_meduc    3\n",
       "log_feduc    7\n",
       "dtype: int64"
      ]
     },
     "execution_count": 6,
     "metadata": {},
     "output_type": "execute_result"
    }
   ],
   "source": [
    "# taking the birthweight dataset ,transforming it into boolean based on \n",
    "# if a value is null and then summing together the results per column\n",
    "\n",
    "birthweight.isnull().sum(axis=0)"
   ]
  },
  {
   "cell_type": "code",
   "execution_count": 7,
   "id": "413ff9b4",
   "metadata": {},
   "outputs": [
    {
     "data": {
      "text/plain": [
       "m_feduc        7\n",
       "m_log_meduc    3\n",
       "m_log_feduc    7\n",
       "dtype: int64"
      ]
     },
     "execution_count": 7,
     "metadata": {},
     "output_type": "execute_result"
    }
   ],
   "source": [
    "# looping to detect features with missing values\n",
    "for col in birthweight:\n",
    "\n",
    "    # creating columns with 1s if missing and 0 if not\n",
    "    if birthweight[col].isnull().astype(int).sum() > 0:\n",
    "        birthweight['m_'+col] = birthweight[col].isnull().astype(int)\n",
    "\n",
    "\n",
    "# summing the missing value flags to check the results of the loop above\n",
    "birthweight.iloc[ : ,  -3:].sum(axis = 0)"
   ]
  },
  {
   "cell_type": "markdown",
   "id": "26d36841",
   "metadata": {},
   "source": [
    "Based on the observations that contained missing values, I thought that using the mean would be ideal. In my mind it made sense to use the mean for the years of education as well as for the total number of prenatal visits because there are not that many significant outliers in the dataset."
   ]
  },
  {
   "cell_type": "code",
   "execution_count": 8,
   "id": "7671cd87",
   "metadata": {},
   "outputs": [],
   "source": [
    "# instantiating an imputation value\n",
    "fill = birthweight['meduc'].mean()\n",
    "\n",
    "\n",
    "# imputing 'meduc'\n",
    "birthweight['meduc'] = birthweight['meduc'].fillna(value = fill)\n",
    "\n",
    "\n",
    "# instantiating an imputation value\n",
    "fill = birthweight['npvis'].mean()\n",
    "\n",
    "\n",
    "# imputing 'npvis'\n",
    "birthweight['npvis'] = birthweight['npvis'].fillna(value = fill)\n",
    "\n",
    "\n",
    "# instantiating an imputation value\n",
    "fill = birthweight['feduc'].mean()\n",
    "\n",
    "\n",
    "# imputing 'feduc'\n",
    "birthweight['feduc'] = birthweight['feduc'].fillna(value = fill)\n",
    "\n",
    "# instantiating an imputation value\n",
    "fill = birthweight['log_feduc'].mean()\n",
    "\n",
    "\n",
    "# imputing 'log_feduc'\n",
    "birthweight['log_feduc'] = birthweight['log_feduc'].fillna(value = fill)\n",
    "\n",
    "# instantiating an imputation value\n",
    "fill = birthweight['log_meduc'].mean()\n",
    "\n",
    "\n",
    "# imputing 'log_meduc'\n",
    "birthweight['log_meduc'] = birthweight['log_meduc'].fillna(value = fill)\n"
   ]
  },
  {
   "cell_type": "code",
   "execution_count": 9,
   "id": "ccf7dcc3",
   "metadata": {},
   "outputs": [
    {
     "data": {
      "text/plain": [
       "mage           False\n",
       "meduc          False\n",
       "monpre         False\n",
       "npvis          False\n",
       "fage           False\n",
       "feduc          False\n",
       "omaps          False\n",
       "fmaps          False\n",
       "cigs           False\n",
       "drink          False\n",
       "male           False\n",
       "mwhte          False\n",
       "mblck          False\n",
       "moth           False\n",
       "fwhte          False\n",
       "fblck          False\n",
       "foth           False\n",
       "bwght          False\n",
       "log_bwght      False\n",
       "log_fage       False\n",
       "log_mage       False\n",
       "log_meduc      False\n",
       "log_feduc      False\n",
       "m_meduc        False\n",
       "m_npvis        False\n",
       "m_feduc        False\n",
       "m_log_meduc    False\n",
       "m_log_feduc    False\n",
       "dtype: bool"
      ]
     },
     "execution_count": 9,
     "metadata": {},
     "output_type": "execute_result"
    }
   ],
   "source": [
    "# making sure all missing values have been taken care of\n",
    "birthweight.isnull().any(axis=0)"
   ]
  },
  {
   "cell_type": "markdown",
   "id": "2a14f413",
   "metadata": {},
   "source": [
    "The codes below can be used to develop a scatterplot and a box plot to better analyze the relationship between our dependent variable and other independent variables. To analyze a different independent variable all you have to do is change the 'x' variable."
   ]
  },
  {
   "cell_type": "code",
   "execution_count": 10,
   "id": "749517bb",
   "metadata": {
    "cell_style": "split"
   },
   "outputs": [
    {
     "data": {
      "image/png": "[encoded data removed]",
      "text/plain": [
       "<Figure size 432x288 with 1 Axes>"
      ]
     },
     "metadata": {
      "needs_background": "light"
     },
     "output_type": "display_data"
    }
   ],
   "source": [
    "# developing a scatterplot\n",
    "sns.scatterplot(x    = 'cigs',\n",
    "                y    = 'bwght',\n",
    "                data = birthweight)\n",
    "\n",
    "\n",
    "# titles and axis labels\n",
    "plt.title(label   = 'Scatterplot with Interval Data')\n",
    "plt.xlabel(xlabel = 'Cigarettes per Day')\n",
    "plt.ylabel(ylabel = 'Birthweight')\n",
    "\n",
    "\n",
    "# displaying the plot\n",
    "plt.show()"
   ]
  },
  {
   "cell_type": "code",
   "execution_count": 11,
   "id": "a0f61a8a",
   "metadata": {
    "cell_style": "split"
   },
   "outputs": [
    {
     "data": {
      "image/png": "[encoded data removed]",
      "text/plain": [
       "<Figure size 432x288 with 1 Axes>"
      ]
     },
     "metadata": {
      "needs_background": "light"
     },
     "output_type": "display_data"
    }
   ],
   "source": [
    "# developing a box plot\n",
    "sns.boxplot(x    = 'cigs',\n",
    "                y    = 'bwght',\n",
    "                data = birthweight)\n",
    "\n",
    "\n",
    "# titles and axis labels\n",
    "plt.title(label   = 'Box plot with Interval Data')\n",
    "plt.xlabel(xlabel = 'Cigarettes per Day')\n",
    "plt.ylabel(ylabel = 'Birthweight')\n",
    "\n",
    "\n",
    "# displaying the plot\n",
    "plt.show()"
   ]
  },
  {
   "cell_type": "markdown",
   "id": "b02260cd",
   "metadata": {},
   "source": [
    "Next, I created a correlation to see each of the independent variables' relationship with the dependent variable (bwght)."
   ]
  },
  {
   "cell_type": "code",
   "execution_count": 12,
   "id": "2e01258b",
   "metadata": {},
   "outputs": [
    {
     "name": "stdout",
     "output_type": "stream",
     "text": [
      "bwght          1.00\n",
      "log_bwght      0.97\n",
      "omaps          0.25\n",
      "fmaps          0.25\n",
      "log_feduc      0.16\n",
      "feduc          0.13\n",
      "mblck          0.13\n",
      "fblck          0.12\n",
      "male           0.11\n",
      "log_meduc      0.09\n",
      "meduc          0.09\n",
      "npvis          0.06\n",
      "m_npvis        0.06\n",
      "m_log_feduc   -0.00\n",
      "m_feduc       -0.00\n",
      "moth          -0.02\n",
      "fwhte         -0.04\n",
      "monpre        -0.05\n",
      "foth          -0.08\n",
      "mwhte         -0.11\n",
      "m_meduc       -0.13\n",
      "m_log_meduc   -0.13\n",
      "log_fage      -0.38\n",
      "fage          -0.40\n",
      "log_mage      -0.42\n",
      "mage          -0.46\n",
      "cigs          -0.57\n",
      "drink         -0.74\n",
      "Name: bwght, dtype: float64\n"
     ]
    }
   ],
   "source": [
    "# creating a (Pearson) correlation matrix\n",
    "df_corr = birthweight.corr().round(2)\n",
    "\n",
    "\n",
    "# printing (Pearson) correlations with bwght\n",
    "print(df_corr.loc['bwght'].sort_values(ascending = False))"
   ]
  },
  {
   "cell_type": "markdown",
   "id": "9f5dfdeb",
   "metadata": {},
   "source": [
    "Instead of typing one variable at a time, used the code below to generate all the x-variables that I would be able to run the regression. I would use all of them agains the y-variable and then depending on the p-value, I would drop some."
   ]
  },
  {
   "cell_type": "code",
   "execution_count": 13,
   "id": "38c4da60",
   "metadata": {},
   "outputs": [
    {
     "name": "stdout",
     "output_type": "stream",
     "text": [
      "mage +\n",
      "meduc +\n",
      "monpre +\n",
      "npvis +\n",
      "fage +\n",
      "feduc +\n",
      "omaps +\n",
      "fmaps +\n",
      "cigs +\n",
      "drink +\n",
      "male +\n",
      "mwhte +\n",
      "mblck +\n",
      "moth +\n",
      "fwhte +\n",
      "fblck +\n",
      "foth +\n",
      "log_fage +\n",
      "log_mage +\n",
      "log_meduc +\n",
      "log_feduc +\n",
      "m_meduc +\n",
      "m_npvis +\n",
      "m_feduc +\n",
      "m_log_meduc +\n",
      "m_log_feduc +\n"
     ]
    }
   ],
   "source": [
    "# making a copy of housing\n",
    "birthweight_explanatory = birthweight.copy()\n",
    "\n",
    "\n",
    "# dropping SalePrice and Order from the explanatory variable set\n",
    "birthweight_explanatory = birthweight_explanatory.drop([\n",
    "                                 'bwght',\n",
    "                                 'log_bwght'], axis = 1)\n",
    "\n",
    "\n",
    "# formatting each explanatory variable for statsmodels\n",
    "for val in birthweight_explanatory:\n",
    "    print(f'{val} +')"
   ]
  },
  {
   "cell_type": "code",
   "execution_count": 14,
   "id": "64d6170d",
   "metadata": {},
   "outputs": [],
   "source": [
    "# dropping some flagged variables\n",
    "birthweight_explanatory = birthweight_explanatory.drop(['m_meduc',\n",
    "                                                         'm_npvis',\n",
    "                                                         'm_feduc',\n",
    "                                                         'm_log_meduc',\n",
    "                                                         'm_log_feduc'], axis = 1)"
   ]
  },
  {
   "cell_type": "code",
   "execution_count": 15,
   "id": "c1c9d8fe",
   "metadata": {},
   "outputs": [
    {
     "data": {
      "text/plain": [
       "Index(['mage', 'meduc', 'monpre', 'npvis', 'fage', 'feduc', 'omaps', 'fmaps', 'cigs', 'drink', 'male', 'mwhte', 'mblck', 'moth', 'fwhte', 'fblck', 'foth', 'log_fage', 'log_mage', 'log_meduc', 'log_feduc'], dtype='object')"
      ]
     },
     "execution_count": 15,
     "metadata": {},
     "output_type": "execute_result"
    }
   ],
   "source": [
    "# checking elements in columns\n",
    "birthweight_explanatory.columns"
   ]
  },
  {
   "cell_type": "markdown",
   "id": "5f36e0a4",
   "metadata": {},
   "source": [
    "I inputed all these variables above in the regression model below. I ran the model against log_bwght as well as bwght and went from including all the x-variables to the ones below. This combination gave me the highest r squared."
   ]
  },
  {
   "cell_type": "code",
   "execution_count": 16,
   "id": "25a4b8ad",
   "metadata": {},
   "outputs": [
    {
     "data": {
      "text/html": [
       "<table class=\"simpletable\">\n",
       "<caption>OLS Regression Results</caption>\n",
       "<tr>\n",
       "  <th>Dep. Variable:</th>          <td>bwght</td>      <th>  R-squared:         </th> <td>   0.706</td>\n",
       "</tr>\n",
       "<tr>\n",
       "  <th>Model:</th>                   <td>OLS</td>       <th>  Adj. R-squared:    </th> <td>   0.695</td>\n",
       "</tr>\n",
       "<tr>\n",
       "  <th>Method:</th>             <td>Least Squares</td>  <th>  F-statistic:       </th> <td>   64.57</td>\n",
       "</tr>\n",
       "<tr>\n",
       "  <th>Date:</th>             <td>Wed, 24 Nov 2021</td> <th>  Prob (F-statistic):</th> <td>1.12e-46</td>\n",
       "</tr>\n",
       "<tr>\n",
       "  <th>Time:</th>                 <td>16:09:37</td>     <th>  Log-Likelihood:    </th> <td> -1426.0</td>\n",
       "</tr>\n",
       "<tr>\n",
       "  <th>No. Observations:</th>      <td>   196</td>      <th>  AIC:               </th> <td>   2868.</td>\n",
       "</tr>\n",
       "<tr>\n",
       "  <th>Df Residuals:</th>          <td>   188</td>      <th>  BIC:               </th> <td>   2894.</td>\n",
       "</tr>\n",
       "<tr>\n",
       "  <th>Df Model:</th>              <td>     7</td>      <th>                     </th>     <td> </td>   \n",
       "</tr>\n",
       "<tr>\n",
       "  <th>Covariance Type:</th>      <td>nonrobust</td>    <th>                     </th>     <td> </td>   \n",
       "</tr>\n",
       "</table>\n",
       "<table class=\"simpletable\">\n",
       "<tr>\n",
       "      <td></td>         <th>coef</th>     <th>std err</th>      <th>t</th>      <th>P>|t|</th>  <th>[0.025</th>    <th>0.975]</th>  \n",
       "</tr>\n",
       "<tr>\n",
       "  <th>Intercept</th> <td> 2970.7332</td> <td>   66.826</td> <td>   44.455</td> <td> 0.000</td> <td> 2838.908</td> <td> 3102.559</td>\n",
       "</tr>\n",
       "<tr>\n",
       "  <th>mage</th>      <td>  -14.4535</td> <td>    2.688</td> <td>   -5.376</td> <td> 0.000</td> <td>  -19.757</td> <td>   -9.150</td>\n",
       "</tr>\n",
       "<tr>\n",
       "  <th>cigs</th>      <td>  -36.4272</td> <td>    4.610</td> <td>   -7.901</td> <td> 0.000</td> <td>  -45.522</td> <td>  -27.333</td>\n",
       "</tr>\n",
       "<tr>\n",
       "  <th>drink</th>     <td> -117.3954</td> <td>    9.729</td> <td>  -12.066</td> <td> 0.000</td> <td> -136.588</td> <td>  -98.203</td>\n",
       "</tr>\n",
       "<tr>\n",
       "  <th>mwhte</th>     <td> 1026.4093</td> <td>   80.694</td> <td>   12.720</td> <td> 0.000</td> <td>  867.227</td> <td> 1185.591</td>\n",
       "</tr>\n",
       "<tr>\n",
       "  <th>mblck</th>     <td>  926.5377</td> <td>   77.920</td> <td>   11.891</td> <td> 0.000</td> <td>  772.828</td> <td> 1080.248</td>\n",
       "</tr>\n",
       "<tr>\n",
       "  <th>moth</th>      <td> 1017.7862</td> <td>   69.182</td> <td>   14.712</td> <td> 0.000</td> <td>  881.313</td> <td> 1154.259</td>\n",
       "</tr>\n",
       "<tr>\n",
       "  <th>fwhte</th>     <td>  937.0330</td> <td>   66.384</td> <td>   14.115</td> <td> 0.000</td> <td>  806.080</td> <td> 1067.986</td>\n",
       "</tr>\n",
       "<tr>\n",
       "  <th>fblck</th>     <td> 1054.0221</td> <td>   86.440</td> <td>   12.194</td> <td> 0.000</td> <td>  883.505</td> <td> 1224.540</td>\n",
       "</tr>\n",
       "<tr>\n",
       "  <th>foth</th>      <td>  979.6780</td> <td>   73.415</td> <td>   13.344</td> <td> 0.000</td> <td>  834.854</td> <td> 1124.502</td>\n",
       "</tr>\n",
       "</table>\n",
       "<table class=\"simpletable\">\n",
       "<tr>\n",
       "  <th>Omnibus:</th>       <td> 5.189</td> <th>  Durbin-Watson:     </th> <td>   1.278</td>\n",
       "</tr>\n",
       "<tr>\n",
       "  <th>Prob(Omnibus):</th> <td> 0.075</td> <th>  Jarque-Bera (JB):  </th> <td>   6.684</td>\n",
       "</tr>\n",
       "<tr>\n",
       "  <th>Skew:</th>          <td>-0.139</td> <th>  Prob(JB):          </th> <td>  0.0354</td>\n",
       "</tr>\n",
       "<tr>\n",
       "  <th>Kurtosis:</th>      <td> 3.861</td> <th>  Cond. No.          </th> <td>6.04e+17</td>\n",
       "</tr>\n",
       "</table><br/><br/>Notes:<br/>[1] Standard Errors assume that the covariance matrix of the errors is correctly specified.<br/>[2] The smallest eigenvalue is  1e-30. This might indicate that there are<br/>strong multicollinearity problems or that the design matrix is singular."
      ],
      "text/plain": [
       "<class 'statsmodels.iolib.summary.Summary'>\n",
       "\"\"\"\n",
       "                            OLS Regression Results                            \n",
       "==============================================================================\n",
       "Dep. Variable:                  bwght   R-squared:                       0.706\n",
       "Model:                            OLS   Adj. R-squared:                  0.695\n",
       "Method:                 Least Squares   F-statistic:                     64.57\n",
       "Date:                Wed, 24 Nov 2021   Prob (F-statistic):           1.12e-46\n",
       "Time:                        16:09:37   Log-Likelihood:                -1426.0\n",
       "No. Observations:                 196   AIC:                             2868.\n",
       "Df Residuals:                     188   BIC:                             2894.\n",
       "Df Model:                           7                                         \n",
       "Covariance Type:            nonrobust                                         \n",
       "==============================================================================\n",
       "                 coef    std err          t      P>|t|      [0.025      0.975]\n",
       "------------------------------------------------------------------------------\n",
       "Intercept   2970.7332     66.826     44.455      0.000    2838.908    3102.559\n",
       "mage         -14.4535      2.688     -5.376      0.000     -19.757      -9.150\n",
       "cigs         -36.4272      4.610     -7.901      0.000     -45.522     -27.333\n",
       "drink       -117.3954      9.729    -12.066      0.000    -136.588     -98.203\n",
       "mwhte       1026.4093     80.694     12.720      0.000     867.227    1185.591\n",
       "mblck        926.5377     77.920     11.891      0.000     772.828    1080.248\n",
       "moth        1017.7862     69.182     14.712      0.000     881.313    1154.259\n",
       "fwhte        937.0330     66.384     14.115      0.000     806.080    1067.986\n",
       "fblck       1054.0221     86.440     12.194      0.000     883.505    1224.540\n",
       "foth         979.6780     73.415     13.344      0.000     834.854    1124.502\n",
       "==============================================================================\n",
       "Omnibus:                        5.189   Durbin-Watson:                   1.278\n",
       "Prob(Omnibus):                  0.075   Jarque-Bera (JB):                6.684\n",
       "Skew:                          -0.139   Prob(JB):                       0.0354\n",
       "Kurtosis:                       3.861   Cond. No.                     6.04e+17\n",
       "==============================================================================\n",
       "\n",
       "Notes:\n",
       "[1] Standard Errors assume that the covariance matrix of the errors is correctly specified.\n",
       "[2] The smallest eigenvalue is  1e-30. This might indicate that there are\n",
       "strong multicollinearity problems or that the design matrix is singular.\n",
       "\"\"\""
      ]
     },
     "execution_count": 16,
     "metadata": {},
     "output_type": "execute_result"
    }
   ],
   "source": [
    "# building a full model\n",
    "\n",
    "# blueprinting a model type\n",
    "lm_full = smf.ols(formula = \"\"\"bwght ~ \n",
    "mage+\n",
    "cigs+\n",
    "drink+\n",
    "mwhte+\n",
    "mblck+\n",
    "moth+\n",
    "fwhte+\n",
    "fblck+\n",
    "foth\n",
    "\"\"\",\n",
    "                               data = birthweight)\n",
    "\n",
    "\n",
    "# telling Python to run the data through the blueprint\n",
    "results_full = lm_full.fit()\n",
    "\n",
    "\n",
    "# printing the results\n",
    "results_full.summary()"
   ]
  },
  {
   "cell_type": "markdown",
   "id": "46c2ffb9",
   "metadata": {},
   "source": [
    "Now I will split the data into a training dataset and a testing dataset and will use the following models:\n",
    "\n",
    "- OLS\n",
    "- Lasso\n",
    "- ARD"
   ]
  },
  {
   "cell_type": "code",
   "execution_count": 17,
   "id": "ddeb9538",
   "metadata": {},
   "outputs": [],
   "source": [
    "from sklearn.model_selection import train_test_split # train/test split\n",
    "from sklearn.linear_model import LinearRegression # linear regression (scikit-learn)"
   ]
  },
  {
   "cell_type": "markdown",
   "id": "cff33411",
   "metadata": {},
   "source": [
    "I used the regression model above to determine which variables I would be willing to keep in the models. This depended on the p-values as well as a trial and error to see which variables increase the train-test gap and which variables decreased the gap. I ended up dropping a lot of the variables and only 8 remained to be used in the models against the dependent variable (bwght)."
   ]
  },
  {
   "cell_type": "code",
   "execution_count": 18,
   "id": "dac825c9",
   "metadata": {},
   "outputs": [
    {
     "name": "stdout",
     "output_type": "stream",
     "text": [
      "\n",
      "Training Data\n",
      "-------------\n",
      "X-side: (147, 9)\n",
      "y-side: (147,)\n",
      "\n",
      "\n",
      "Testing Data\n",
      "------------\n",
      "X-side: (49, 9)\n",
      "y-side: (49,)\n",
      "\n"
     ]
    }
   ],
   "source": [
    "# preparing explanatory variable data\n",
    "birthweight_data   = birthweight.drop(['bwght',\n",
    "                                       'log_bwght',\n",
    "                                       'fmaps',\n",
    "                                       'omaps',\n",
    "                                       'm_meduc',\n",
    "                                       'm_npvis',\n",
    "                                       'm_feduc',\n",
    "                                       'm_log_meduc',\n",
    "                                       'm_log_feduc',\n",
    "                                      'monpre',\n",
    "                                      'mblck',\n",
    "                                      'mage',\n",
    "                                      'feduc',\n",
    "                                      'moth',\n",
    "                                      'log_fage',\n",
    "                                      'log_mage',\n",
    "                                      'fwhte',\n",
    "                                      'log_meduc',\n",
    "                                      'log_feduc'],\n",
    "                                       axis = 1)\n",
    "\n",
    "\n",
    "# preparing response variables\n",
    "birthweight_target = birthweight.loc[ : , 'bwght']\n",
    "log_birthweight_target = birthweight.loc[ : , 'log_bwght']\n",
    "\n",
    "\n",
    "# preparing training and testing sets (all letters are lowercase)\n",
    "x_train, x_test, y_train, y_test = train_test_split(\n",
    "            birthweight_data,\n",
    "            birthweight_target,\n",
    "            test_size = 0.25,\n",
    "            random_state = 219)\n",
    "\n",
    "\n",
    "# checking the shapes of the datasets\n",
    "print(f\"\"\"\n",
    "Training Data\n",
    "-------------\n",
    "X-side: {x_train.shape}\n",
    "y-side: {y_train.shape}\n",
    "\n",
    "\n",
    "Testing Data\n",
    "------------\n",
    "X-side: {x_test.shape}\n",
    "y-side: {y_test.shape}\n",
    "\"\"\")"
   ]
  },
  {
   "cell_type": "code",
   "execution_count": 19,
   "id": "95c37601",
   "metadata": {},
   "outputs": [
    {
     "name": "stdout",
     "output_type": "stream",
     "text": [
      "meduc +\n",
      "npvis +\n",
      "fage +\n",
      "cigs +\n",
      "drink +\n",
      "male +\n",
      "mwhte +\n",
      "fblck +\n",
      "foth +\n"
     ]
    }
   ],
   "source": [
    "# declaring set of x-variables\n",
    "x_variables = ['meduc','npvis','fage', 'cigs','drink',\n",
    "               'male','mwhte','fblck','foth' ]\n",
    "\n",
    "\n",
    "# looping to make x-variables suitable for statsmodels\n",
    "for val in x_variables:\n",
    "    print(f\"{val} +\")"
   ]
  },
  {
   "cell_type": "markdown",
   "id": "0dbda310",
   "metadata": {},
   "source": [
    " - OLS Regression Model:"
   ]
  },
  {
   "cell_type": "code",
   "execution_count": 20,
   "id": "6c2c12ec",
   "metadata": {},
   "outputs": [],
   "source": [
    "# applying modelin scikit-learn\n",
    "\n",
    "# preparing x-variables from the OLS model\n",
    "ols_data = birthweight.loc[ : , x_variables ]\n",
    "\n",
    "\n",
    "# preparing response variable\n",
    "birthweight_target = birthweight.loc[ : , 'bwght']\n",
    "\n",
    "\n",
    "###############################################\n",
    "## setting up more than one train-test split ##\n",
    "###############################################\n",
    "# FULL X-dataset (normal Y)\n",
    "x_train_FULL, x_test_FULL, y_train_FULL, y_test_FULL = train_test_split(\n",
    "            birthweight_data,     # x-variables\n",
    "            birthweight_target,   # y-variable\n",
    "            test_size = 0.25,\n",
    "            random_state = 219)\n",
    "\n",
    "\n",
    "# OLS p-value x-dataset (normal Y)\n",
    "x_train_OLS, x_test_OLS, y_train_OLS, y_test_OLS = train_test_split(\n",
    "            ols_data,         # x-variables\n",
    "            birthweight_target,   # y-variable\n",
    "            test_size = 0.25,\n",
    "            random_state = 219)"
   ]
  },
  {
   "cell_type": "code",
   "execution_count": 21,
   "id": "cbdb3e26",
   "metadata": {},
   "outputs": [
    {
     "name": "stdout",
     "output_type": "stream",
     "text": [
      "OLS Training Score : 0.6904\n",
      "OLS Testing Score  : 0.6864\n",
      "OLS Train-Test Gap : 0.004\n"
     ]
    }
   ],
   "source": [
    "# INSTANTIATING a model object\n",
    "lr = LinearRegression()\n",
    "\n",
    "\n",
    "# FITTING to the training data\n",
    "lr_fit = lr.fit(x_train_OLS, y_train_OLS)\n",
    "\n",
    "\n",
    "# PREDICTING on new data\n",
    "lr_pred = lr_fit.predict(x_test_OLS)\n",
    "\n",
    "\n",
    "# SCORING the results\n",
    "print('OLS Training Score :', lr.score(x_train_OLS, y_train_OLS).round(4))  # using R-square\n",
    "print('OLS Testing Score  :',  lr.score(x_test_OLS, y_test_OLS).round(4)) # using R-square\n",
    "\n",
    "\n",
    "lr_train_score = lr.score(x_train_OLS, y_train_OLS).round(4)\n",
    "lr_test_score = lr.score(x_test_OLS, y_test_OLS).round(4) \n",
    "\n",
    "\n",
    "\n",
    "# displaying and saving the gap between training and testing\n",
    "print('OLS Train-Test Gap :', abs(lr_train_score - lr_test_score).round(4))\n",
    "lr_test_gap = abs(lr_train_score - lr_test_score).round(4)"
   ]
  },
  {
   "cell_type": "code",
   "execution_count": 22,
   "id": "664d529e",
   "metadata": {},
   "outputs": [
    {
     "name": "stdout",
     "output_type": "stream",
     "text": [
      "('intercept', 4215.18)\n",
      "('meduc', 40.82)\n",
      "('npvis', 1.18)\n",
      "('fage', -13.2)\n",
      "('cigs', -38.39)\n",
      "('drink', -118.12)\n",
      "('male', 71.7)\n",
      "('mwhte', 143.13)\n",
      "('fblck', 100.56)\n",
      "('foth', 57.51)\n"
     ]
    }
   ],
   "source": [
    "# zipping each feature name to its coefficient\n",
    "lr_model_values = zip(birthweight_data[x_variables].columns,\n",
    "                      lr_fit.coef_.round(decimals = 2))\n",
    "\n",
    "\n",
    "# setting up a placeholder list to store model features\n",
    "lr_model_lst = [('intercept', lr_fit.intercept_.round(decimals = 2))]\n",
    "\n",
    "\n",
    "# printing out each feature-coefficient pair one by one\n",
    "for val in lr_model_values:\n",
    "    lr_model_lst.append(val)\n",
    "    \n",
    "\n",
    "# checking the results\n",
    "for pair in lr_model_lst:\n",
    "    print(pair)"
   ]
  },
  {
   "cell_type": "markdown",
   "id": "31e23663",
   "metadata": {},
   "source": [
    "- Lasso Regression Model:"
   ]
  },
  {
   "cell_type": "code",
   "execution_count": 23,
   "id": "58d9db57",
   "metadata": {},
   "outputs": [],
   "source": [
    "import sklearn.linear_model # linear models"
   ]
  },
  {
   "cell_type": "code",
   "execution_count": 24,
   "id": "73fc4912",
   "metadata": {},
   "outputs": [
    {
     "name": "stdout",
     "output_type": "stream",
     "text": [
      "Lasso Training Score : 0.6869\n",
      "Lasso Testing Score  : 0.7077\n",
      "Lasso Train-Test Gap : 0.0208\n"
     ]
    }
   ],
   "source": [
    "# INSTANTIATING a model object\n",
    "lasso_model = sklearn.linear_model.Lasso(alpha = 1.0,\n",
    "                                         normalize = True) # default magitude\n",
    "\n",
    "\n",
    "# FITTING to the training data\n",
    "lasso_fit = lasso_model.fit(x_train_FULL, y_train_FULL)\n",
    "\n",
    "\n",
    "# PREDICTING on new data\n",
    "lasso_pred = lasso_fit.predict(x_test_FULL)\n",
    "\n",
    "\n",
    "# SCORING the results\n",
    "print('Lasso Training Score :', lasso_model.score(x_train_FULL, y_train_FULL).round(4))\n",
    "print('Lasso Testing Score  :', lasso_model.score(x_test_FULL, y_test_FULL).round(4))\n",
    "\n",
    "\n",
    "## the following code has been provided for you ##\n",
    "\n",
    "# saving scoring data for future use\n",
    "lasso_train_score = lasso_model.score(x_train_FULL, y_train_FULL).round(4) # using R-square\n",
    "lasso_test_score  = lasso_model.score(x_test_FULL, y_test_FULL).round(4)   # using R-square\n",
    "\n",
    "\n",
    "# displaying and saving the gap between training and testing\n",
    "print('Lasso Train-Test Gap :', abs(lasso_train_score - lasso_test_score).round(4))\n",
    "lasso_test_gap = abs(lasso_train_score - lasso_test_score).round(4)"
   ]
  },
  {
   "cell_type": "code",
   "execution_count": 25,
   "id": "ad6f42fc",
   "metadata": {},
   "outputs": [
    {
     "name": "stdout",
     "output_type": "stream",
     "text": [
      "('intercept', 4455.45)\n",
      "('meduc', 27.73)\n",
      "('npvis', 0.0)\n",
      "('fage', -12.53)\n",
      "('cigs', -37.26)\n",
      "('drink', -115.02)\n",
      "('male', 45.15)\n",
      "('mwhte', 20.76)\n",
      "('fblck', 0.0)\n",
      "('foth', -0.0)\n"
     ]
    }
   ],
   "source": [
    "# zipping each feature name to its coefficient\n",
    "lasso_model_values = zip(birthweight_data.columns, lasso_fit.coef_.round(decimals = 2))\n",
    "\n",
    "\n",
    "# setting up a placeholder list to store model features\n",
    "lasso_model_lst = [('intercept', lasso_fit.intercept_.round(decimals = 2))]\n",
    "\n",
    "\n",
    "# printing out each feature-coefficient pair one by one\n",
    "for val in lasso_model_values:\n",
    "    lasso_model_lst.append(val)\n",
    "    \n",
    "\n",
    "# checking the results\n",
    "for pair in lasso_model_lst:\n",
    "    print(pair)"
   ]
  },
  {
   "cell_type": "code",
   "execution_count": 26,
   "id": "87be4675",
   "metadata": {},
   "outputs": [
    {
     "name": "stdout",
     "output_type": "stream",
     "text": [
      "('intercept', 4455.45)\n",
      "('meduc', 27.73)\n",
      "('fage', -12.53)\n",
      "('cigs', -37.26)\n",
      "('drink', -115.02)\n",
      "('male', 45.15)\n",
      "('mwhte', 20.76)\n",
      "('foth', -0.0)\n"
     ]
    }
   ],
   "source": [
    "## This code may have to be run more than once ##\n",
    "\n",
    "# dropping coefficients that are equal to zero\n",
    "\n",
    "# printing out each feature-coefficient pair one by one\n",
    "for feature, coefficient in lasso_model_lst:\n",
    "        \n",
    "        if coefficient == 0:\n",
    "            lasso_model_lst.remove((feature, coefficient))\n",
    "\n",
    "            \n",
    "# checking the results\n",
    "for pair in lasso_model_lst:\n",
    "    print(pair)"
   ]
  },
  {
   "cell_type": "markdown",
   "id": "38ecb763",
   "metadata": {},
   "source": [
    " - ARD Regression Model:"
   ]
  },
  {
   "cell_type": "code",
   "execution_count": 27,
   "id": "30e43c98",
   "metadata": {},
   "outputs": [
    {
     "name": "stdout",
     "output_type": "stream",
     "text": [
      "Training Score: 0.6843\n",
      "Testing Score : 0.7215\n",
      "ARD Train-Test Gap : 0.0372\n"
     ]
    }
   ],
   "source": [
    "# INSTANTIATING a model object\n",
    "ard_model = sklearn.linear_model.ARDRegression() # default magitude\n",
    "\n",
    "\n",
    "# FITTING the training data\n",
    "ard_fit = ard_model.fit(x_train_FULL, y_train_FULL)\n",
    "\n",
    "\n",
    "# PREDICTING on new data\n",
    "ard_pred = ard_fit.predict(x_test_FULL)\n",
    "\n",
    "\n",
    "print('Training Score:', ard_model.score(x_train_FULL, y_train_FULL).round(4))\n",
    "print('Testing Score :',  ard_model.score(x_test_FULL, y_test_FULL).round(4))\n",
    "\n",
    "\n",
    "# saving scoring data for future use\n",
    "ard_train_score = ard_model.score(x_train_FULL, y_train_FULL).round(4) # using R-square\n",
    "ard_test_score  = ard_model.score(x_test_FULL, y_test_FULL).round(4)   # using R-square\n",
    "\n",
    "\n",
    "# displaying and saving the gap between training and testing\n",
    "print('ARD Train-Test Gap :', abs(ard_train_score - ard_test_score).round(4))\n",
    "ard_test_gap = abs(ard_train_score - ard_test_score).round(4)"
   ]
  },
  {
   "cell_type": "code",
   "execution_count": 28,
   "id": "51a26be5",
   "metadata": {},
   "outputs": [
    {
     "name": "stdout",
     "output_type": "stream",
     "text": [
      "('intercept', 4570.82)\n",
      "('meduc', 24.28725)\n",
      "('npvis', 0.00059)\n",
      "('fage', -12.87969)\n",
      "('cigs', -38.2623)\n",
      "('drink', -117.69884)\n",
      "('male', 0.02413)\n",
      "('mwhte', 0.00107)\n",
      "('fblck', 8e-05)\n",
      "('foth', -0.00062)\n"
     ]
    }
   ],
   "source": [
    "# zipping each feature name to its coefficient\n",
    "ard_model_values = zip(birthweight_data.columns, ard_fit.coef_.round(decimals = 5))\n",
    "\n",
    "\n",
    "# setting up a placeholder list to store model features\n",
    "ard_model_lst = [('intercept', ard_fit.intercept_.round(decimals = 2))]\n",
    "\n",
    "\n",
    "# printing out each feature-coefficient pair one by one\n",
    "for val in ard_model_values:\n",
    "    ard_model_lst.append(val)\n",
    "    \n",
    "\n",
    "# checking the results\n",
    "for pair in ard_model_lst:\n",
    "    print(pair)"
   ]
  },
  {
   "cell_type": "code",
   "execution_count": 29,
   "id": "a12a2c0f",
   "metadata": {},
   "outputs": [
    {
     "name": "stdout",
     "output_type": "stream",
     "text": [
      "('intercept', 4570.82)\n",
      "('meduc', 24.28725)\n",
      "('npvis', 0.00059)\n",
      "('fage', -12.87969)\n",
      "('cigs', -38.2623)\n",
      "('drink', -117.69884)\n",
      "('male', 0.02413)\n",
      "('mwhte', 0.00107)\n",
      "('fblck', 8e-05)\n",
      "('foth', -0.00062)\n"
     ]
    }
   ],
   "source": [
    "## This code may have to be run more than once ##\n",
    "\n",
    "# dropping coefficients that are equal to zero\n",
    "\n",
    "# printing out each feature-coefficient pair one by one\n",
    "for feature, coefficient in ard_model_lst:\n",
    "        \n",
    "        if coefficient == 0:\n",
    "            ard_model_lst.remove((feature, coefficient))\n",
    "\n",
    "            \n",
    "# checking the results\n",
    "for pair in ard_model_lst:\n",
    "    print(pair)"
   ]
  },
  {
   "cell_type": "code",
   "execution_count": 30,
   "id": "cf3519a7",
   "metadata": {},
   "outputs": [
    {
     "name": "stdout",
     "output_type": "stream",
     "text": [
      "\n",
      "Model      Train Score      Test Score         GAP\n",
      "-----      -----------      ----------      ----------   \n",
      "OLS        0.6904           0.6864          0.004 \n",
      "Lasso      0.6869           0.7077          0.0208\n",
      "*ARD       0.6843           0.7215          0.0372\n",
      "\n",
      "\n",
      "* = final model\n"
     ]
    }
   ],
   "source": [
    "# comparing results\n",
    "\n",
    "print(f\"\"\"\n",
    "Model      Train Score      Test Score         GAP\n",
    "-----      -----------      ----------      ----------   \n",
    "OLS        {lr_train_score}           {lr_test_score}          {lr_test_gap} \n",
    "Lasso      {lasso_train_score}           {lasso_test_score}          {lasso_test_gap}\n",
    "*ARD       {ard_train_score}           {ard_test_score}          {ard_test_gap}\n",
    "\n",
    "\n",
    "* = final model\"\"\")\n",
    "\n",
    "\n",
    "# creating a dictionary for model results\n",
    "model_performance = {\n",
    "    \n",
    "    'Model Type'    : ['OLS', 'Lasso', 'ARD'],\n",
    "           \n",
    "    'Training' : [lr_train_score, lasso_train_score,\n",
    "                                   ard_train_score],\n",
    "           \n",
    "    'Testing'  : [lr_test_score, lasso_test_score,\n",
    "                                   ard_test_score],\n",
    "                    \n",
    "    'Train-Test Gap' : [lr_test_gap, lasso_test_gap,\n",
    "                                        ard_test_gap],\n",
    "                    \n",
    "    'Model Size' : [len(lr_model_lst), len(lasso_model_lst),\n",
    "                                    len(ard_model_lst)],\n",
    "                    \n",
    "    'Model' : [lr_model_lst, lasso_model_lst, ard_model_lst]}\n",
    "\n",
    "\n",
    "# converting model_performance into a DataFrame\n",
    "model_performance = pd.DataFrame(model_performance)\n",
    "\n"
   ]
  },
  {
   "cell_type": "markdown",
   "id": "f77b4bf5",
   "metadata": {},
   "source": [
    "On all the models, I was going back and forth to see which values closed the gap and which values increased the gap between the training and test scores. After a lot of trial and error, I decided to go with the ARD model as it gave me the highest Test Score out of the three models done and had a gap that was less than 0.05."
   ]
  },
  {
   "cell_type": "code",
   "execution_count": 31,
   "id": "3f8139ab",
   "metadata": {},
   "outputs": [
    {
     "data": {
      "text/plain": [
       "(196, 28)"
      ]
     },
     "execution_count": 31,
     "metadata": {},
     "output_type": "execute_result"
    }
   ],
   "source": [
    "# checking to see that no observations were removed while working on this model\n",
    "\n",
    "birthweight.shape"
   ]
  },
  {
   "cell_type": "code",
   "execution_count": null,
   "id": "832eb744",
   "metadata": {},
   "outputs": [],
   "source": []
  }
 ],
 "metadata": {
  "kernelspec": {
   "display_name": "Python 3 (ipykernel)",
   "language": "python",
   "name": "python3"
  },
  "language_info": {
   "codemirror_mode": {
    "name": "ipython",
    "version": 3
   },
   "file_extension": ".py",
   "mimetype": "text/x-python",
   "name": "python",
   "nbconvert_exporter": "python",
   "pygments_lexer": "ipython3",
   "version": "3.8.5"
  },
  "toc": {
   "base_numbering": 1,
   "nav_menu": {},
   "number_sections": true,
   "sideBar": true,
   "skip_h1_title": false,
   "title_cell": "Table of Contents",
   "title_sidebar": "Contents",
   "toc_cell": false,
   "toc_position": {
    "height": "calc(100% - 180px)",
    "left": "10px",
    "top": "150px",
    "width": "167.78750610351562px"
   },
   "toc_section_display": true,
   "toc_window_display": false
  },
  "varInspector": {
   "cols": {
    "lenName": 16,
    "lenType": 16,
    "lenVar": 40
   },
   "kernels_config": {
    "python": {
     "delete_cmd_postfix": "",
     "delete_cmd_prefix": "del ",
     "library": "var_list.py",
     "varRefreshCmd": "print(var_dic_list())"
    },
    "r": {
     "delete_cmd_postfix": ") ",
     "delete_cmd_prefix": "rm(",
     "library": "var_list.r",
     "varRefreshCmd": "cat(var_dic_list()) "
    }
   },
   "types_to_exclude": [
    "module",
    "function",
    "builtin_function_or_method",
    "instance",
    "_Feature"
   ],
   "window_display": false
  }
 },
 "nbformat": 4,
 "nbformat_minor": 5
}
